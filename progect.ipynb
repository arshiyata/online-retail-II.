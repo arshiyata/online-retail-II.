{
 "cells": [
  {
   "cell_type": "code",
   "id": "initial_id",
   "metadata": {
    "collapsed": true
   },
   "source": [
    "import numpy as np\n",
    "import pandas as pd\n",
    "import matplotlib. pyplot as plt\n",
    "from sklearn.metrics.pairwise import cosine_similarity\n",
    "from sklearn. feature_extraction. text import CountVectorizer"
   ],
   "outputs": [],
   "execution_count": null
  },
  {
   "metadata": {},
   "cell_type": "code",
   "source": [
    "# data analise :\n",
    "# بارگذاری داده‌ها\n",
    "org_df = pd.read_excel(\"online_retail_II.xlsx\", nrows=1000)\n",
    "\n",
    "df = org_df[[\"StockCode\", \"Description\", \"Quantity\", \"Country\"]].copy()\n",
    "\n",
    "# جایگزینی فاصله با زیرخط\n",
    "df[\"Description\"] = df[\"Description\"].str.replace(\" \", \"_\")\n",
    "\n",
    "# حذف ردیف‌های دارای مقدار تهی\n",
    "df = df.dropna(subset=[\"Description\"])\n",
    "\n"
   ],
   "id": "d2a150a0c6ab74d0",
   "outputs": [],
   "execution_count": null
  },
  {
   "metadata": {},
   "cell_type": "code",
   "source": [
    "# machine learning\n",
    "\n",
    "# ساخت بردار با CountVectorizer\n",
    "vectorizer = CountVectorizer()\n",
    "df[\"Mix_feature\"] = (df[\"Description\"] + \" \" +df[\"StockCode\"].astype(str) + \" \" +df[\"Quantity\"].astype(str) + \" \" +df[\"Country\"])\n",
    "\n",
    "vector = vectorizer.fit_transform(df[\"Mix_feature\"])\n",
    "\n",
    "#  شباهت  بین تمام آیتم‌ها\n",
    "similarities = cosine_similarity(vector)\n",
    "\n",
    "# گرفتن ورودی از کاربر\n",
    "mb = input(\"Enter title: \").replace(\" \", \"_\")\n",
    "\n",
    "# پیدا کردن ایندکس مورد نظر کاربر\n",
    "try:\n",
    "    m_index = df.index[df[\"Description\"] == mb][0]\n",
    "except IndexError:\n",
    "    print(\"Title not found!\")\n",
    "    exit()\n",
    "\n",
    "# مرتب سازی ایندکس‌ها بر اساس شباهت\n",
    "similar_m = list(np.argsort(similarities[m_index])[::-1])\n",
    "\n",
    "\n",
    "n_recommendation = 3\n",
    "recommended_index = similar_m[1:n_recommendation+1]\n",
    "\n",
    "# نمایش عناوین مشابه\n",
    "print(df.iloc[recommended_index][[\"Description\"]])"
   ],
   "id": "4248bf4ca8ee1858",
   "outputs": [],
   "execution_count": null
  },
  {
   "metadata": {},
   "cell_type": "code",
   "source": "",
   "id": "780a1d2f454d99f6",
   "outputs": [],
   "execution_count": null
  }
 ],
 "metadata": {
  "kernelspec": {
   "display_name": "Python 3",
   "language": "python",
   "name": "python3"
  },
  "language_info": {
   "codemirror_mode": {
    "name": "ipython",
    "version": 2
   },
   "file_extension": ".py",
   "mimetype": "text/x-python",
   "name": "python",
   "nbconvert_exporter": "python",
   "pygments_lexer": "ipython2",
   "version": "2.7.6"
  }
 },
 "nbformat": 4,
 "nbformat_minor": 5
}
