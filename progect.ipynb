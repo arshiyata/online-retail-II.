{
 "cells": [
  {
   "cell_type": "code",
   "id": "initial_id",
   "metadata": {
    "collapsed": true,
    "ExecuteTime": {
     "end_time": "2025-07-30T19:25:44.555437Z",
     "start_time": "2025-07-30T19:25:42.250019Z"
    }
   },
   "source": [
    "import numpy as np\n",
    "import pandas as pd\n",
    "import matplotlib. pyplot as plt\n",
    "from sklearn.metrics.pairwise import cosine_similarity\n",
    "from sklearn. feature_extraction. text import CountVectorizer"
   ],
   "outputs": [],
   "execution_count": 1
  },
  {
   "metadata": {
    "ExecuteTime": {
     "end_time": "2025-07-30T19:26:37.367804Z",
     "start_time": "2025-07-30T19:25:44.575371Z"
    }
   },
   "cell_type": "code",
   "source": [
    "# data analise :\n",
    "# بارگذاری داده‌ها\n",
    "org_df = pd.read_excel(\"online_retail_II.xlsx\")\n",
    "\n",
    "df = org_df[[\"StockCode\", \"Description\", \"Quantity\", \"Country\"]].copy()\n",
    "\n",
    "# جایگزینی فاصله با زیرخط\n",
    "df[\"Description\"] = df[\"Description\"].str.replace(\" \", \"_\")\n",
    "\n",
    "# حذف ردیف‌های دارای مقدار تهی\n",
    "df = df.dropna(subset=[\"Description\"])\n",
    "\n",
    "# 1000 ردیف اول\n",
    "df = df.head(1000)"
   ],
   "id": "d2a150a0c6ab74d0",
   "outputs": [
    {
     "ename": "KeyboardInterrupt",
     "evalue": "",
     "output_type": "error",
     "traceback": [
      "\u001B[31m---------------------------------------------------------------------------\u001B[39m",
      "\u001B[31mKeyboardInterrupt\u001B[39m                         Traceback (most recent call last)",
      "\u001B[36mCell\u001B[39m\u001B[36m \u001B[39m\u001B[32mIn[2]\u001B[39m\u001B[32m, line 3\u001B[39m\n\u001B[32m      1\u001B[39m \u001B[38;5;66;03m# data analise :\u001B[39;00m\n\u001B[32m      2\u001B[39m \u001B[38;5;66;03m# بارگذاری داده‌ها\u001B[39;00m\n\u001B[32m----> \u001B[39m\u001B[32m3\u001B[39m org_df = \u001B[43mpd\u001B[49m\u001B[43m.\u001B[49m\u001B[43mread_excel\u001B[49m\u001B[43m(\u001B[49m\u001B[33;43m\"\u001B[39;49m\u001B[33;43monline_retail_II.xlsx\u001B[39;49m\u001B[33;43m\"\u001B[39;49m\u001B[43m)\u001B[49m\n\u001B[32m      5\u001B[39m df = org_df[[\u001B[33m\"\u001B[39m\u001B[33mStockCode\u001B[39m\u001B[33m\"\u001B[39m, \u001B[33m\"\u001B[39m\u001B[33mDescription\u001B[39m\u001B[33m\"\u001B[39m, \u001B[33m\"\u001B[39m\u001B[33mQuantity\u001B[39m\u001B[33m\"\u001B[39m, \u001B[33m\"\u001B[39m\u001B[33mCountry\u001B[39m\u001B[33m\"\u001B[39m]].copy()\n\u001B[32m      7\u001B[39m \u001B[38;5;66;03m# جایگزینی فاصله با زیرخط\u001B[39;00m\n",
      "\u001B[36mFile \u001B[39m\u001B[32m~\\PyCharmMiscProject\\.venv\\Lib\\site-packages\\pandas\\io\\excel\\_base.py:508\u001B[39m, in \u001B[36mread_excel\u001B[39m\u001B[34m(io, sheet_name, header, names, index_col, usecols, dtype, engine, converters, true_values, false_values, skiprows, nrows, na_values, keep_default_na, na_filter, verbose, parse_dates, date_parser, date_format, thousands, decimal, comment, skipfooter, storage_options, dtype_backend, engine_kwargs)\u001B[39m\n\u001B[32m    502\u001B[39m     \u001B[38;5;28;01mraise\u001B[39;00m \u001B[38;5;167;01mValueError\u001B[39;00m(\n\u001B[32m    503\u001B[39m         \u001B[33m\"\u001B[39m\u001B[33mEngine should not be specified when passing \u001B[39m\u001B[33m\"\u001B[39m\n\u001B[32m    504\u001B[39m         \u001B[33m\"\u001B[39m\u001B[33man ExcelFile - ExcelFile already has the engine set\u001B[39m\u001B[33m\"\u001B[39m\n\u001B[32m    505\u001B[39m     )\n\u001B[32m    507\u001B[39m \u001B[38;5;28;01mtry\u001B[39;00m:\n\u001B[32m--> \u001B[39m\u001B[32m508\u001B[39m     data = \u001B[43mio\u001B[49m\u001B[43m.\u001B[49m\u001B[43mparse\u001B[49m\u001B[43m(\u001B[49m\n\u001B[32m    509\u001B[39m \u001B[43m        \u001B[49m\u001B[43msheet_name\u001B[49m\u001B[43m=\u001B[49m\u001B[43msheet_name\u001B[49m\u001B[43m,\u001B[49m\n\u001B[32m    510\u001B[39m \u001B[43m        \u001B[49m\u001B[43mheader\u001B[49m\u001B[43m=\u001B[49m\u001B[43mheader\u001B[49m\u001B[43m,\u001B[49m\n\u001B[32m    511\u001B[39m \u001B[43m        \u001B[49m\u001B[43mnames\u001B[49m\u001B[43m=\u001B[49m\u001B[43mnames\u001B[49m\u001B[43m,\u001B[49m\n\u001B[32m    512\u001B[39m \u001B[43m        \u001B[49m\u001B[43mindex_col\u001B[49m\u001B[43m=\u001B[49m\u001B[43mindex_col\u001B[49m\u001B[43m,\u001B[49m\n\u001B[32m    513\u001B[39m \u001B[43m        \u001B[49m\u001B[43musecols\u001B[49m\u001B[43m=\u001B[49m\u001B[43musecols\u001B[49m\u001B[43m,\u001B[49m\n\u001B[32m    514\u001B[39m \u001B[43m        \u001B[49m\u001B[43mdtype\u001B[49m\u001B[43m=\u001B[49m\u001B[43mdtype\u001B[49m\u001B[43m,\u001B[49m\n\u001B[32m    515\u001B[39m \u001B[43m        \u001B[49m\u001B[43mconverters\u001B[49m\u001B[43m=\u001B[49m\u001B[43mconverters\u001B[49m\u001B[43m,\u001B[49m\n\u001B[32m    516\u001B[39m \u001B[43m        \u001B[49m\u001B[43mtrue_values\u001B[49m\u001B[43m=\u001B[49m\u001B[43mtrue_values\u001B[49m\u001B[43m,\u001B[49m\n\u001B[32m    517\u001B[39m \u001B[43m        \u001B[49m\u001B[43mfalse_values\u001B[49m\u001B[43m=\u001B[49m\u001B[43mfalse_values\u001B[49m\u001B[43m,\u001B[49m\n\u001B[32m    518\u001B[39m \u001B[43m        \u001B[49m\u001B[43mskiprows\u001B[49m\u001B[43m=\u001B[49m\u001B[43mskiprows\u001B[49m\u001B[43m,\u001B[49m\n\u001B[32m    519\u001B[39m \u001B[43m        \u001B[49m\u001B[43mnrows\u001B[49m\u001B[43m=\u001B[49m\u001B[43mnrows\u001B[49m\u001B[43m,\u001B[49m\n\u001B[32m    520\u001B[39m \u001B[43m        \u001B[49m\u001B[43mna_values\u001B[49m\u001B[43m=\u001B[49m\u001B[43mna_values\u001B[49m\u001B[43m,\u001B[49m\n\u001B[32m    521\u001B[39m \u001B[43m        \u001B[49m\u001B[43mkeep_default_na\u001B[49m\u001B[43m=\u001B[49m\u001B[43mkeep_default_na\u001B[49m\u001B[43m,\u001B[49m\n\u001B[32m    522\u001B[39m \u001B[43m        \u001B[49m\u001B[43mna_filter\u001B[49m\u001B[43m=\u001B[49m\u001B[43mna_filter\u001B[49m\u001B[43m,\u001B[49m\n\u001B[32m    523\u001B[39m \u001B[43m        \u001B[49m\u001B[43mverbose\u001B[49m\u001B[43m=\u001B[49m\u001B[43mverbose\u001B[49m\u001B[43m,\u001B[49m\n\u001B[32m    524\u001B[39m \u001B[43m        \u001B[49m\u001B[43mparse_dates\u001B[49m\u001B[43m=\u001B[49m\u001B[43mparse_dates\u001B[49m\u001B[43m,\u001B[49m\n\u001B[32m    525\u001B[39m \u001B[43m        \u001B[49m\u001B[43mdate_parser\u001B[49m\u001B[43m=\u001B[49m\u001B[43mdate_parser\u001B[49m\u001B[43m,\u001B[49m\n\u001B[32m    526\u001B[39m \u001B[43m        \u001B[49m\u001B[43mdate_format\u001B[49m\u001B[43m=\u001B[49m\u001B[43mdate_format\u001B[49m\u001B[43m,\u001B[49m\n\u001B[32m    527\u001B[39m \u001B[43m        \u001B[49m\u001B[43mthousands\u001B[49m\u001B[43m=\u001B[49m\u001B[43mthousands\u001B[49m\u001B[43m,\u001B[49m\n\u001B[32m    528\u001B[39m \u001B[43m        \u001B[49m\u001B[43mdecimal\u001B[49m\u001B[43m=\u001B[49m\u001B[43mdecimal\u001B[49m\u001B[43m,\u001B[49m\n\u001B[32m    529\u001B[39m \u001B[43m        \u001B[49m\u001B[43mcomment\u001B[49m\u001B[43m=\u001B[49m\u001B[43mcomment\u001B[49m\u001B[43m,\u001B[49m\n\u001B[32m    530\u001B[39m \u001B[43m        \u001B[49m\u001B[43mskipfooter\u001B[49m\u001B[43m=\u001B[49m\u001B[43mskipfooter\u001B[49m\u001B[43m,\u001B[49m\n\u001B[32m    531\u001B[39m \u001B[43m        \u001B[49m\u001B[43mdtype_backend\u001B[49m\u001B[43m=\u001B[49m\u001B[43mdtype_backend\u001B[49m\u001B[43m,\u001B[49m\n\u001B[32m    532\u001B[39m \u001B[43m    \u001B[49m\u001B[43m)\u001B[49m\n\u001B[32m    533\u001B[39m \u001B[38;5;28;01mfinally\u001B[39;00m:\n\u001B[32m    534\u001B[39m     \u001B[38;5;66;03m# make sure to close opened file handles\u001B[39;00m\n\u001B[32m    535\u001B[39m     \u001B[38;5;28;01mif\u001B[39;00m should_close:\n",
      "\u001B[36mFile \u001B[39m\u001B[32m~\\PyCharmMiscProject\\.venv\\Lib\\site-packages\\pandas\\io\\excel\\_base.py:1616\u001B[39m, in \u001B[36mExcelFile.parse\u001B[39m\u001B[34m(self, sheet_name, header, names, index_col, usecols, converters, true_values, false_values, skiprows, nrows, na_values, parse_dates, date_parser, date_format, thousands, comment, skipfooter, dtype_backend, **kwds)\u001B[39m\n\u001B[32m   1576\u001B[39m \u001B[38;5;28;01mdef\u001B[39;00m\u001B[38;5;250m \u001B[39m\u001B[34mparse\u001B[39m(\n\u001B[32m   1577\u001B[39m     \u001B[38;5;28mself\u001B[39m,\n\u001B[32m   1578\u001B[39m     sheet_name: \u001B[38;5;28mstr\u001B[39m | \u001B[38;5;28mint\u001B[39m | \u001B[38;5;28mlist\u001B[39m[\u001B[38;5;28mint\u001B[39m] | \u001B[38;5;28mlist\u001B[39m[\u001B[38;5;28mstr\u001B[39m] | \u001B[38;5;28;01mNone\u001B[39;00m = \u001B[32m0\u001B[39m,\n\u001B[32m   (...)\u001B[39m\u001B[32m   1596\u001B[39m     **kwds,\n\u001B[32m   1597\u001B[39m ) -> DataFrame | \u001B[38;5;28mdict\u001B[39m[\u001B[38;5;28mstr\u001B[39m, DataFrame] | \u001B[38;5;28mdict\u001B[39m[\u001B[38;5;28mint\u001B[39m, DataFrame]:\n\u001B[32m   1598\u001B[39m \u001B[38;5;250m    \u001B[39m\u001B[33;03m\"\"\"\u001B[39;00m\n\u001B[32m   1599\u001B[39m \u001B[33;03m    Parse specified sheet(s) into a DataFrame.\u001B[39;00m\n\u001B[32m   1600\u001B[39m \n\u001B[32m   (...)\u001B[39m\u001B[32m   1614\u001B[39m \u001B[33;03m    >>> file.parse()  # doctest: +SKIP\u001B[39;00m\n\u001B[32m   1615\u001B[39m \u001B[33;03m    \"\"\"\u001B[39;00m\n\u001B[32m-> \u001B[39m\u001B[32m1616\u001B[39m     \u001B[38;5;28;01mreturn\u001B[39;00m \u001B[38;5;28;43mself\u001B[39;49m\u001B[43m.\u001B[49m\u001B[43m_reader\u001B[49m\u001B[43m.\u001B[49m\u001B[43mparse\u001B[49m\u001B[43m(\u001B[49m\n\u001B[32m   1617\u001B[39m \u001B[43m        \u001B[49m\u001B[43msheet_name\u001B[49m\u001B[43m=\u001B[49m\u001B[43msheet_name\u001B[49m\u001B[43m,\u001B[49m\n\u001B[32m   1618\u001B[39m \u001B[43m        \u001B[49m\u001B[43mheader\u001B[49m\u001B[43m=\u001B[49m\u001B[43mheader\u001B[49m\u001B[43m,\u001B[49m\n\u001B[32m   1619\u001B[39m \u001B[43m        \u001B[49m\u001B[43mnames\u001B[49m\u001B[43m=\u001B[49m\u001B[43mnames\u001B[49m\u001B[43m,\u001B[49m\n\u001B[32m   1620\u001B[39m \u001B[43m        \u001B[49m\u001B[43mindex_col\u001B[49m\u001B[43m=\u001B[49m\u001B[43mindex_col\u001B[49m\u001B[43m,\u001B[49m\n\u001B[32m   1621\u001B[39m \u001B[43m        \u001B[49m\u001B[43musecols\u001B[49m\u001B[43m=\u001B[49m\u001B[43musecols\u001B[49m\u001B[43m,\u001B[49m\n\u001B[32m   1622\u001B[39m \u001B[43m        \u001B[49m\u001B[43mconverters\u001B[49m\u001B[43m=\u001B[49m\u001B[43mconverters\u001B[49m\u001B[43m,\u001B[49m\n\u001B[32m   1623\u001B[39m \u001B[43m        \u001B[49m\u001B[43mtrue_values\u001B[49m\u001B[43m=\u001B[49m\u001B[43mtrue_values\u001B[49m\u001B[43m,\u001B[49m\n\u001B[32m   1624\u001B[39m \u001B[43m        \u001B[49m\u001B[43mfalse_values\u001B[49m\u001B[43m=\u001B[49m\u001B[43mfalse_values\u001B[49m\u001B[43m,\u001B[49m\n\u001B[32m   1625\u001B[39m \u001B[43m        \u001B[49m\u001B[43mskiprows\u001B[49m\u001B[43m=\u001B[49m\u001B[43mskiprows\u001B[49m\u001B[43m,\u001B[49m\n\u001B[32m   1626\u001B[39m \u001B[43m        \u001B[49m\u001B[43mnrows\u001B[49m\u001B[43m=\u001B[49m\u001B[43mnrows\u001B[49m\u001B[43m,\u001B[49m\n\u001B[32m   1627\u001B[39m \u001B[43m        \u001B[49m\u001B[43mna_values\u001B[49m\u001B[43m=\u001B[49m\u001B[43mna_values\u001B[49m\u001B[43m,\u001B[49m\n\u001B[32m   1628\u001B[39m \u001B[43m        \u001B[49m\u001B[43mparse_dates\u001B[49m\u001B[43m=\u001B[49m\u001B[43mparse_dates\u001B[49m\u001B[43m,\u001B[49m\n\u001B[32m   1629\u001B[39m \u001B[43m        \u001B[49m\u001B[43mdate_parser\u001B[49m\u001B[43m=\u001B[49m\u001B[43mdate_parser\u001B[49m\u001B[43m,\u001B[49m\n\u001B[32m   1630\u001B[39m \u001B[43m        \u001B[49m\u001B[43mdate_format\u001B[49m\u001B[43m=\u001B[49m\u001B[43mdate_format\u001B[49m\u001B[43m,\u001B[49m\n\u001B[32m   1631\u001B[39m \u001B[43m        \u001B[49m\u001B[43mthousands\u001B[49m\u001B[43m=\u001B[49m\u001B[43mthousands\u001B[49m\u001B[43m,\u001B[49m\n\u001B[32m   1632\u001B[39m \u001B[43m        \u001B[49m\u001B[43mcomment\u001B[49m\u001B[43m=\u001B[49m\u001B[43mcomment\u001B[49m\u001B[43m,\u001B[49m\n\u001B[32m   1633\u001B[39m \u001B[43m        \u001B[49m\u001B[43mskipfooter\u001B[49m\u001B[43m=\u001B[49m\u001B[43mskipfooter\u001B[49m\u001B[43m,\u001B[49m\n\u001B[32m   1634\u001B[39m \u001B[43m        \u001B[49m\u001B[43mdtype_backend\u001B[49m\u001B[43m=\u001B[49m\u001B[43mdtype_backend\u001B[49m\u001B[43m,\u001B[49m\n\u001B[32m   1635\u001B[39m \u001B[43m        \u001B[49m\u001B[43m*\u001B[49m\u001B[43m*\u001B[49m\u001B[43mkwds\u001B[49m\u001B[43m,\u001B[49m\n\u001B[32m   1636\u001B[39m \u001B[43m    \u001B[49m\u001B[43m)\u001B[49m\n",
      "\u001B[36mFile \u001B[39m\u001B[32m~\\PyCharmMiscProject\\.venv\\Lib\\site-packages\\pandas\\io\\excel\\_base.py:778\u001B[39m, in \u001B[36mBaseExcelReader.parse\u001B[39m\u001B[34m(self, sheet_name, header, names, index_col, usecols, dtype, true_values, false_values, skiprows, nrows, na_values, verbose, parse_dates, date_parser, date_format, thousands, decimal, comment, skipfooter, dtype_backend, **kwds)\u001B[39m\n\u001B[32m    775\u001B[39m     sheet = \u001B[38;5;28mself\u001B[39m.get_sheet_by_index(asheetname)\n\u001B[32m    777\u001B[39m file_rows_needed = \u001B[38;5;28mself\u001B[39m._calc_rows(header, index_col, skiprows, nrows)\n\u001B[32m--> \u001B[39m\u001B[32m778\u001B[39m data = \u001B[38;5;28;43mself\u001B[39;49m\u001B[43m.\u001B[49m\u001B[43mget_sheet_data\u001B[49m\u001B[43m(\u001B[49m\u001B[43msheet\u001B[49m\u001B[43m,\u001B[49m\u001B[43m \u001B[49m\u001B[43mfile_rows_needed\u001B[49m\u001B[43m)\u001B[49m\n\u001B[32m    779\u001B[39m \u001B[38;5;28;01mif\u001B[39;00m \u001B[38;5;28mhasattr\u001B[39m(sheet, \u001B[33m\"\u001B[39m\u001B[33mclose\u001B[39m\u001B[33m\"\u001B[39m):\n\u001B[32m    780\u001B[39m     \u001B[38;5;66;03m# pyxlsb opens two TemporaryFiles\u001B[39;00m\n\u001B[32m    781\u001B[39m     sheet.close()\n",
      "\u001B[36mFile \u001B[39m\u001B[32m~\\PyCharmMiscProject\\.venv\\Lib\\site-packages\\pandas\\io\\excel\\_openpyxl.py:615\u001B[39m, in \u001B[36mOpenpyxlReader.get_sheet_data\u001B[39m\u001B[34m(self, sheet, file_rows_needed)\u001B[39m\n\u001B[32m    613\u001B[39m data: \u001B[38;5;28mlist\u001B[39m[\u001B[38;5;28mlist\u001B[39m[Scalar]] = []\n\u001B[32m    614\u001B[39m last_row_with_data = -\u001B[32m1\u001B[39m\n\u001B[32m--> \u001B[39m\u001B[32m615\u001B[39m \u001B[43m\u001B[49m\u001B[38;5;28;43;01mfor\u001B[39;49;00m\u001B[43m \u001B[49m\u001B[43mrow_number\u001B[49m\u001B[43m,\u001B[49m\u001B[43m \u001B[49m\u001B[43mrow\u001B[49m\u001B[43m \u001B[49m\u001B[38;5;129;43;01min\u001B[39;49;00m\u001B[43m \u001B[49m\u001B[38;5;28;43menumerate\u001B[39;49m\u001B[43m(\u001B[49m\u001B[43msheet\u001B[49m\u001B[43m.\u001B[49m\u001B[43mrows\u001B[49m\u001B[43m)\u001B[49m\u001B[43m:\u001B[49m\n\u001B[32m    616\u001B[39m \u001B[43m    \u001B[49m\u001B[43mconverted_row\u001B[49m\u001B[43m \u001B[49m\u001B[43m=\u001B[49m\u001B[43m \u001B[49m\u001B[43m[\u001B[49m\u001B[38;5;28;43mself\u001B[39;49m\u001B[43m.\u001B[49m\u001B[43m_convert_cell\u001B[49m\u001B[43m(\u001B[49m\u001B[43mcell\u001B[49m\u001B[43m)\u001B[49m\u001B[43m \u001B[49m\u001B[38;5;28;43;01mfor\u001B[39;49;00m\u001B[43m \u001B[49m\u001B[43mcell\u001B[49m\u001B[43m \u001B[49m\u001B[38;5;129;43;01min\u001B[39;49;00m\u001B[43m \u001B[49m\u001B[43mrow\u001B[49m\u001B[43m]\u001B[49m\n\u001B[32m    617\u001B[39m \u001B[43m    \u001B[49m\u001B[38;5;28;43;01mwhile\u001B[39;49;00m\u001B[43m \u001B[49m\u001B[43mconverted_row\u001B[49m\u001B[43m \u001B[49m\u001B[38;5;129;43;01mand\u001B[39;49;00m\u001B[43m \u001B[49m\u001B[43mconverted_row\u001B[49m\u001B[43m[\u001B[49m\u001B[43m-\u001B[49m\u001B[32;43m1\u001B[39;49m\u001B[43m]\u001B[49m\u001B[43m \u001B[49m\u001B[43m==\u001B[49m\u001B[43m \u001B[49m\u001B[33;43m\"\u001B[39;49m\u001B[33;43m\"\u001B[39;49m\u001B[43m:\u001B[49m\n\u001B[32m    618\u001B[39m \u001B[43m        \u001B[49m\u001B[38;5;66;43;03m# trim trailing empty elements\u001B[39;49;00m\n",
      "\u001B[36mFile \u001B[39m\u001B[32m~\\PyCharmMiscProject\\.venv\\Lib\\site-packages\\openpyxl\\worksheet\\_read_only.py:85\u001B[39m, in \u001B[36mReadOnlyWorksheet._cells_by_row\u001B[39m\u001B[34m(self, min_col, min_row, max_col, max_row, values_only)\u001B[39m\n\u001B[32m     77\u001B[39m \u001B[38;5;28;01mwith\u001B[39;00m \u001B[38;5;28mself\u001B[39m._get_source() \u001B[38;5;28;01mas\u001B[39;00m src:\n\u001B[32m     78\u001B[39m     parser = WorkSheetParser(src,\n\u001B[32m     79\u001B[39m                              \u001B[38;5;28mself\u001B[39m._shared_strings,\n\u001B[32m     80\u001B[39m                              data_only=\u001B[38;5;28mself\u001B[39m.parent.data_only,\n\u001B[32m     81\u001B[39m                              epoch=\u001B[38;5;28mself\u001B[39m.parent.epoch,\n\u001B[32m     82\u001B[39m                              date_formats=\u001B[38;5;28mself\u001B[39m.parent._date_formats,\n\u001B[32m     83\u001B[39m                              timedelta_formats=\u001B[38;5;28mself\u001B[39m.parent._timedelta_formats)\n\u001B[32m---> \u001B[39m\u001B[32m85\u001B[39m \u001B[43m    \u001B[49m\u001B[38;5;28;43;01mfor\u001B[39;49;00m\u001B[43m \u001B[49m\u001B[43midx\u001B[49m\u001B[43m,\u001B[49m\u001B[43m \u001B[49m\u001B[43mrow\u001B[49m\u001B[43m \u001B[49m\u001B[38;5;129;43;01min\u001B[39;49;00m\u001B[43m \u001B[49m\u001B[43mparser\u001B[49m\u001B[43m.\u001B[49m\u001B[43mparse\u001B[49m\u001B[43m(\u001B[49m\u001B[43m)\u001B[49m\u001B[43m:\u001B[49m\n\u001B[32m     86\u001B[39m \u001B[43m        \u001B[49m\u001B[38;5;28;43;01mif\u001B[39;49;00m\u001B[43m \u001B[49m\u001B[43mmax_row\u001B[49m\u001B[43m \u001B[49m\u001B[38;5;129;43;01mis\u001B[39;49;00m\u001B[43m \u001B[49m\u001B[38;5;129;43;01mnot\u001B[39;49;00m\u001B[43m \u001B[49m\u001B[38;5;28;43;01mNone\u001B[39;49;00m\u001B[43m \u001B[49m\u001B[38;5;129;43;01mand\u001B[39;49;00m\u001B[43m \u001B[49m\u001B[43midx\u001B[49m\u001B[43m \u001B[49m\u001B[43m>\u001B[49m\u001B[43m \u001B[49m\u001B[43mmax_row\u001B[49m\u001B[43m:\u001B[49m\n\u001B[32m     87\u001B[39m \u001B[43m            \u001B[49m\u001B[38;5;28;43;01mbreak\u001B[39;49;00m\n",
      "\u001B[36mFile \u001B[39m\u001B[32m~\\PyCharmMiscProject\\.venv\\Lib\\site-packages\\openpyxl\\worksheet\\_reader.py:156\u001B[39m, in \u001B[36mWorkSheetParser.parse\u001B[39m\u001B[34m(self)\u001B[39m\n\u001B[32m    137\u001B[39m properties = {\n\u001B[32m    138\u001B[39m     PRINT_TAG: (\u001B[33m'\u001B[39m\u001B[33mprint_options\u001B[39m\u001B[33m'\u001B[39m, PrintOptions),\n\u001B[32m    139\u001B[39m     MARGINS_TAG: (\u001B[33m'\u001B[39m\u001B[33mpage_margins\u001B[39m\u001B[33m'\u001B[39m, PageMargins),\n\u001B[32m   (...)\u001B[39m\u001B[32m    151\u001B[39m \n\u001B[32m    152\u001B[39m }\n\u001B[32m    154\u001B[39m it = iterparse(\u001B[38;5;28mself\u001B[39m.source) \u001B[38;5;66;03m# add a finaliser to close the source when this becomes possible\u001B[39;00m\n\u001B[32m--> \u001B[39m\u001B[32m156\u001B[39m \u001B[43m\u001B[49m\u001B[38;5;28;43;01mfor\u001B[39;49;00m\u001B[43m \u001B[49m\u001B[43m_\u001B[49m\u001B[43m,\u001B[49m\u001B[43m \u001B[49m\u001B[43melement\u001B[49m\u001B[43m \u001B[49m\u001B[38;5;129;43;01min\u001B[39;49;00m\u001B[43m \u001B[49m\u001B[43mit\u001B[49m\u001B[43m:\u001B[49m\n\u001B[32m    157\u001B[39m \u001B[43m    \u001B[49m\u001B[43mtag_name\u001B[49m\u001B[43m \u001B[49m\u001B[43m=\u001B[49m\u001B[43m \u001B[49m\u001B[43melement\u001B[49m\u001B[43m.\u001B[49m\u001B[43mtag\u001B[49m\n\u001B[32m    158\u001B[39m \u001B[43m    \u001B[49m\u001B[38;5;28;43;01mif\u001B[39;49;00m\u001B[43m \u001B[49m\u001B[43mtag_name\u001B[49m\u001B[43m \u001B[49m\u001B[38;5;129;43;01min\u001B[39;49;00m\u001B[43m \u001B[49m\u001B[43mdispatcher\u001B[49m\u001B[43m:\u001B[49m\n",
      "\u001B[36mFile \u001B[39m\u001B[32m~\\anaconda3\\Lib\\xml\\etree\\ElementTree.py:1238\u001B[39m, in \u001B[36miterparse.<locals>.iterator\u001B[39m\u001B[34m(source)\u001B[39m\n\u001B[32m   1236\u001B[39m \u001B[38;5;28;01myield from\u001B[39;00m pullparser.read_events()\n\u001B[32m   1237\u001B[39m \u001B[38;5;66;03m# load event buffer\u001B[39;00m\n\u001B[32m-> \u001B[39m\u001B[32m1238\u001B[39m data = \u001B[43msource\u001B[49m\u001B[43m.\u001B[49m\u001B[43mread\u001B[49m\u001B[43m(\u001B[49m\u001B[32;43m16\u001B[39;49m\u001B[43m \u001B[49m\u001B[43m*\u001B[49m\u001B[43m \u001B[49m\u001B[32;43m1024\u001B[39;49m\u001B[43m)\u001B[49m\n\u001B[32m   1239\u001B[39m \u001B[38;5;28;01mif\u001B[39;00m \u001B[38;5;129;01mnot\u001B[39;00m data:\n\u001B[32m   1240\u001B[39m     \u001B[38;5;28;01mbreak\u001B[39;00m\n",
      "\u001B[36mFile \u001B[39m\u001B[32m~\\anaconda3\\Lib\\zipfile\\__init__.py:989\u001B[39m, in \u001B[36mZipExtFile.read\u001B[39m\u001B[34m(self, n)\u001B[39m\n\u001B[32m    987\u001B[39m \u001B[38;5;28mself\u001B[39m._offset = \u001B[32m0\u001B[39m\n\u001B[32m    988\u001B[39m \u001B[38;5;28;01mwhile\u001B[39;00m n > \u001B[32m0\u001B[39m \u001B[38;5;129;01mand\u001B[39;00m \u001B[38;5;129;01mnot\u001B[39;00m \u001B[38;5;28mself\u001B[39m._eof:\n\u001B[32m--> \u001B[39m\u001B[32m989\u001B[39m     data = \u001B[38;5;28;43mself\u001B[39;49m\u001B[43m.\u001B[49m\u001B[43m_read1\u001B[49m\u001B[43m(\u001B[49m\u001B[43mn\u001B[49m\u001B[43m)\u001B[49m\n\u001B[32m    990\u001B[39m     \u001B[38;5;28;01mif\u001B[39;00m n < \u001B[38;5;28mlen\u001B[39m(data):\n\u001B[32m    991\u001B[39m         \u001B[38;5;28mself\u001B[39m._readbuffer = data\n",
      "\u001B[36mFile \u001B[39m\u001B[32m~\\anaconda3\\Lib\\zipfile\\__init__.py:1079\u001B[39m, in \u001B[36mZipExtFile._read1\u001B[39m\u001B[34m(self, n)\u001B[39m\n\u001B[32m   1077\u001B[39m \u001B[38;5;28;01mif\u001B[39;00m \u001B[38;5;28mself\u001B[39m._left <= \u001B[32m0\u001B[39m:\n\u001B[32m   1078\u001B[39m     \u001B[38;5;28mself\u001B[39m._eof = \u001B[38;5;28;01mTrue\u001B[39;00m\n\u001B[32m-> \u001B[39m\u001B[32m1079\u001B[39m \u001B[38;5;28;43mself\u001B[39;49m\u001B[43m.\u001B[49m\u001B[43m_update_crc\u001B[49m\u001B[43m(\u001B[49m\u001B[43mdata\u001B[49m\u001B[43m)\u001B[49m\n\u001B[32m   1080\u001B[39m \u001B[38;5;28;01mreturn\u001B[39;00m data\n",
      "\u001B[36mFile \u001B[39m\u001B[32m~\\anaconda3\\Lib\\zipfile\\__init__.py:1004\u001B[39m, in \u001B[36mZipExtFile._update_crc\u001B[39m\u001B[34m(self, newdata)\u001B[39m\n\u001B[32m   1001\u001B[39m \u001B[38;5;28;01mif\u001B[39;00m \u001B[38;5;28mself\u001B[39m._expected_crc \u001B[38;5;129;01mis\u001B[39;00m \u001B[38;5;28;01mNone\u001B[39;00m:\n\u001B[32m   1002\u001B[39m     \u001B[38;5;66;03m# No need to compute the CRC if we don't have a reference value\u001B[39;00m\n\u001B[32m   1003\u001B[39m     \u001B[38;5;28;01mreturn\u001B[39;00m\n\u001B[32m-> \u001B[39m\u001B[32m1004\u001B[39m \u001B[38;5;28mself\u001B[39m._running_crc = \u001B[43mcrc32\u001B[49m\u001B[43m(\u001B[49m\u001B[43mnewdata\u001B[49m\u001B[43m,\u001B[49m\u001B[43m \u001B[49m\u001B[38;5;28;43mself\u001B[39;49m\u001B[43m.\u001B[49m\u001B[43m_running_crc\u001B[49m\u001B[43m)\u001B[49m\n\u001B[32m   1005\u001B[39m \u001B[38;5;66;03m# Check the CRC if we're at the end of the file\u001B[39;00m\n\u001B[32m   1006\u001B[39m \u001B[38;5;28;01mif\u001B[39;00m \u001B[38;5;28mself\u001B[39m._eof \u001B[38;5;129;01mand\u001B[39;00m \u001B[38;5;28mself\u001B[39m._running_crc != \u001B[38;5;28mself\u001B[39m._expected_crc:\n",
      "\u001B[31mKeyboardInterrupt\u001B[39m: "
     ]
    }
   ],
   "execution_count": 2
  },
  {
   "metadata": {
    "jupyter": {
     "is_executing": true
    },
    "ExecuteTime": {
     "end_time": "2025-07-30T19:26:37.395558Z",
     "start_time": "2025-07-30T19:17:33.841001Z"
    }
   },
   "cell_type": "code",
   "source": [
    "# machine learning\n",
    "\n",
    "# ساخت بردار با CountVectorizer\n",
    "vectorizer = CountVectorizer()\n",
    "df[\"Mix_feature\"] = (df[\"Description\"] + \" \" +df[\"StockCode\"].astype(str) + \" \" +df[\"Quantity\"].astype(str) + \" \" +df[\"Country\"])\n",
    "\n",
    "vector = vectorizer.fit_transform(df[\"Mix_feature\"])\n",
    "\n",
    "#  شباهت  بین تمام آیتم‌ها\n",
    "similarities = cosine_similarity(vector)\n",
    "\n",
    "# گرفتن ورودی از کاربر\n",
    "mb = input(\"Enter title: \").replace(\" \", \"_\")\n",
    "\n",
    "# پیدا کردن ایندکس مورد نظر کاربر\n",
    "try:\n",
    "    m_index = df.index[df[\"Description\"] == mb][0]\n",
    "except IndexError:\n",
    "    print(\"Title not found!\")\n",
    "    exit()\n",
    "\n",
    "# مرتب سازی ایندکس‌ها بر اساس شباهت\n",
    "similar_m = list(np.argsort(similarities[m_index])[::-1])\n",
    "\n",
    "\n",
    "n_recommendation = 3\n",
    "recommended_index = similar_m[1:n_recommendation+1]\n",
    "\n",
    "# نمایش عناوین مشابه\n",
    "print(df.iloc[recommended_index][[\"Description\"]])"
   ],
   "id": "4248bf4ca8ee1858",
   "outputs": [],
   "execution_count": null
  },
  {
   "metadata": {},
   "cell_type": "code",
   "outputs": [],
   "execution_count": null,
   "source": "",
   "id": "780a1d2f454d99f6"
  }
 ],
 "metadata": {
  "kernelspec": {
   "display_name": "Python 3",
   "language": "python",
   "name": "python3"
  },
  "language_info": {
   "codemirror_mode": {
    "name": "ipython",
    "version": 2
   },
   "file_extension": ".py",
   "mimetype": "text/x-python",
   "name": "python",
   "nbconvert_exporter": "python",
   "pygments_lexer": "ipython2",
   "version": "2.7.6"
  }
 },
 "nbformat": 4,
 "nbformat_minor": 5
}
